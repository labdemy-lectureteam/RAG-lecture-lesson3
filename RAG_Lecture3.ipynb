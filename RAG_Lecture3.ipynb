{
  "cells": [
    {
      "cell_type": "markdown",
      "metadata": {
        "id": "bdkNU2eiJNlU"
      },
      "source": [
        "# 準備"
      ]
    },
    {
      "cell_type": "markdown",
      "metadata": {
        "id": "zbhewFTHJSSV"
      },
      "source": [
        "git cloneで今回利用するファイルを取得"
      ]
    },
    {
      "cell_type": "code",
      "execution_count": 2,
      "metadata": {
        "id": "SyZqWvqzJMSW",
        "colab": {
          "base_uri": "https://localhost:8080/"
        },
        "outputId": "4ff5509f-6061-41a2-c490-0d6d354234ad"
      },
      "outputs": [
        {
          "output_type": "stream",
          "name": "stdout",
          "text": [
            "Cloning into 'RAG-lecture-lesson1'...\n",
            "remote: Enumerating objects: 56, done.\u001b[K\n",
            "remote: Counting objects: 100% (56/56), done.\u001b[K\n",
            "remote: Compressing objects: 100% (40/40), done.\u001b[K\n",
            "remote: Total 56 (delta 17), reused 50 (delta 14), pack-reused 0 (from 0)\u001b[K\n",
            "Receiving objects: 100% (56/56), 888.12 KiB | 6.88 MiB/s, done.\n",
            "Resolving deltas: 100% (17/17), done.\n"
          ]
        }
      ],
      "source": [
        "!git clone https://github.com/labdemy-lectureteam/RAG-lecture-lesson1.git"
      ]
    },
    {
      "cell_type": "markdown",
      "metadata": {
        "id": "NEQAKVNsJXDA"
      },
      "source": [
        "必要パッケージのインストール"
      ]
    },
    {
      "cell_type": "code",
      "execution_count": 3,
      "metadata": {
        "id": "EhC_wVWRJWL8",
        "colab": {
          "base_uri": "https://localhost:8080/"
        },
        "outputId": "58759929-b695-48a1-bede-8a942789006c"
      },
      "outputs": [
        {
          "output_type": "stream",
          "name": "stdout",
          "text": [
            "\u001b[2K   \u001b[90m━━━━━━━━━━━━━━━━━━━━━━━━━━━━━━━━━━━━━━━━\u001b[0m \u001b[32m2.5/2.5 MB\u001b[0m \u001b[31m33.1 MB/s\u001b[0m eta \u001b[36m0:00:00\u001b[0m\n",
            "\u001b[2K   \u001b[90m━━━━━━━━━━━━━━━━━━━━━━━━━━━━━━━━━━━━━━━━\u001b[0m \u001b[32m50.9/50.9 kB\u001b[0m \u001b[31m3.6 MB/s\u001b[0m eta \u001b[36m0:00:00\u001b[0m\n",
            "\u001b[2K   \u001b[90m━━━━━━━━━━━━━━━━━━━━━━━━━━━━━━━━━━━━━━━━\u001b[0m \u001b[32m300.7/300.7 kB\u001b[0m \u001b[31m3.7 MB/s\u001b[0m eta \u001b[36m0:00:00\u001b[0m\n",
            "\u001b[2K     \u001b[90m━━━━━━━━━━━━━━━━━━━━━━━━━━━━━━━━━━━━━━━━\u001b[0m \u001b[32m67.3/67.3 kB\u001b[0m \u001b[31m2.8 MB/s\u001b[0m eta \u001b[36m0:00:00\u001b[0m\n",
            "\u001b[?25h  Installing build dependencies ... \u001b[?25l\u001b[?25hdone\n",
            "  Getting requirements to build wheel ... \u001b[?25l\u001b[?25hdone\n",
            "  Preparing metadata (pyproject.toml) ... \u001b[?25l\u001b[?25hdone\n",
            "\u001b[2K   \u001b[90m━━━━━━━━━━━━━━━━━━━━━━━━━━━━━━━━━━━━━━━━\u001b[0m \u001b[32m55.0/55.0 kB\u001b[0m \u001b[31m3.5 MB/s\u001b[0m eta \u001b[36m0:00:00\u001b[0m\n",
            "\u001b[2K   \u001b[90m━━━━━━━━━━━━━━━━━━━━━━━━━━━━━━━━━━━━━━━━\u001b[0m \u001b[32m611.1/611.1 kB\u001b[0m \u001b[31m15.6 MB/s\u001b[0m eta \u001b[36m0:00:00\u001b[0m\n",
            "\u001b[2K   \u001b[90m━━━━━━━━━━━━━━━━━━━━━━━━━━━━━━━━━━━━━━━━\u001b[0m \u001b[32m2.4/2.4 MB\u001b[0m \u001b[31m53.2 MB/s\u001b[0m eta \u001b[36m0:00:00\u001b[0m\n",
            "\u001b[2K   \u001b[90m━━━━━━━━━━━━━━━━━━━━━━━━━━━━━━━━━━━━━━━━\u001b[0m \u001b[32m1.2/1.2 MB\u001b[0m \u001b[31m42.6 MB/s\u001b[0m eta \u001b[36m0:00:00\u001b[0m\n",
            "\u001b[2K   \u001b[90m━━━━━━━━━━━━━━━━━━━━━━━━━━━━━━━━━━━━━━━━\u001b[0m \u001b[32m278.6/278.6 kB\u001b[0m \u001b[31m18.6 MB/s\u001b[0m eta \u001b[36m0:00:00\u001b[0m\n",
            "\u001b[2K   \u001b[90m━━━━━━━━━━━━━━━━━━━━━━━━━━━━━━━━━━━━━━━━\u001b[0m \u001b[32m94.8/94.8 kB\u001b[0m \u001b[31m4.8 MB/s\u001b[0m eta \u001b[36m0:00:00\u001b[0m\n",
            "\u001b[2K   \u001b[90m━━━━━━━━━━━━━━━━━━━━━━━━━━━━━━━━━━━━━━━━\u001b[0m \u001b[32m2.0/2.0 MB\u001b[0m \u001b[31m51.8 MB/s\u001b[0m eta \u001b[36m0:00:00\u001b[0m\n",
            "\u001b[2K   \u001b[90m━━━━━━━━━━━━━━━━━━━━━━━━━━━━━━━━━━━━━━━━\u001b[0m \u001b[32m101.6/101.6 kB\u001b[0m \u001b[31m7.0 MB/s\u001b[0m eta \u001b[36m0:00:00\u001b[0m\n",
            "\u001b[2K   \u001b[90m━━━━━━━━━━━━━━━━━━━━━━━━━━━━━━━━━━━━━━━━\u001b[0m \u001b[32m13.3/13.3 MB\u001b[0m \u001b[31m62.8 MB/s\u001b[0m eta \u001b[36m0:00:00\u001b[0m\n",
            "\u001b[2K   \u001b[90m━━━━━━━━━━━━━━━━━━━━━━━━━━━━━━━━━━━━━━━━\u001b[0m \u001b[32m55.9/55.9 kB\u001b[0m \u001b[31m3.9 MB/s\u001b[0m eta \u001b[36m0:00:00\u001b[0m\n",
            "\u001b[2K   \u001b[90m━━━━━━━━━━━━━━━━━━━━━━━━━━━━━━━━━━━━━━━━\u001b[0m \u001b[32m177.4/177.4 kB\u001b[0m \u001b[31m10.9 MB/s\u001b[0m eta \u001b[36m0:00:00\u001b[0m\n",
            "\u001b[2K   \u001b[90m━━━━━━━━━━━━━━━━━━━━━━━━━━━━━━━━━━━━━━━━\u001b[0m \u001b[32m65.0/65.0 kB\u001b[0m \u001b[31m4.6 MB/s\u001b[0m eta \u001b[36m0:00:00\u001b[0m\n",
            "\u001b[2K   \u001b[90m━━━━━━━━━━━━━━━━━━━━━━━━━━━━━━━━━━━━━━━━\u001b[0m \u001b[32m118.7/118.7 kB\u001b[0m \u001b[31m8.6 MB/s\u001b[0m eta \u001b[36m0:00:00\u001b[0m\n",
            "\u001b[2K   \u001b[90m━━━━━━━━━━━━━━━━━━━━━━━━━━━━━━━━━━━━━━━━\u001b[0m \u001b[32m73.0/73.0 kB\u001b[0m \u001b[31m4.3 MB/s\u001b[0m eta \u001b[36m0:00:00\u001b[0m\n",
            "\u001b[2K   \u001b[90m━━━━━━━━━━━━━━━━━━━━━━━━━━━━━━━━━━━━━━━━\u001b[0m \u001b[32m62.3/62.3 kB\u001b[0m \u001b[31m4.6 MB/s\u001b[0m eta \u001b[36m0:00:00\u001b[0m\n",
            "\u001b[2K   \u001b[90m━━━━━━━━━━━━━━━━━━━━━━━━━━━━━━━━━━━━━━━━\u001b[0m \u001b[32m459.8/459.8 kB\u001b[0m \u001b[31m24.4 MB/s\u001b[0m eta \u001b[36m0:00:00\u001b[0m\n",
            "\u001b[2K   \u001b[90m━━━━━━━━━━━━━━━━━━━━━━━━━━━━━━━━━━━━━━━━\u001b[0m \u001b[32m319.7/319.7 kB\u001b[0m \u001b[31m19.6 MB/s\u001b[0m eta \u001b[36m0:00:00\u001b[0m\n",
            "\u001b[2K   \u001b[90m━━━━━━━━━━━━━━━━━━━━━━━━━━━━━━━━━━━━━━━━\u001b[0m \u001b[32m71.5/71.5 kB\u001b[0m \u001b[31m5.0 MB/s\u001b[0m eta \u001b[36m0:00:00\u001b[0m\n",
            "\u001b[2K   \u001b[90m━━━━━━━━━━━━━━━━━━━━━━━━━━━━━━━━━━━━━━━━\u001b[0m \u001b[32m4.0/4.0 MB\u001b[0m \u001b[31m62.1 MB/s\u001b[0m eta \u001b[36m0:00:00\u001b[0m\n",
            "\u001b[2K   \u001b[90m━━━━━━━━━━━━━━━━━━━━━━━━━━━━━━━━━━━━━━━━\u001b[0m \u001b[32m452.6/452.6 kB\u001b[0m \u001b[31m19.5 MB/s\u001b[0m eta \u001b[36m0:00:00\u001b[0m\n",
            "\u001b[2K   \u001b[90m━━━━━━━━━━━━━━━━━━━━━━━━━━━━━━━━━━━━━━━━\u001b[0m \u001b[32m46.0/46.0 kB\u001b[0m \u001b[31m3.1 MB/s\u001b[0m eta \u001b[36m0:00:00\u001b[0m\n",
            "\u001b[2K   \u001b[90m━━━━━━━━━━━━━━━━━━━━━━━━━━━━━━━━━━━━━━━━\u001b[0m \u001b[32m86.8/86.8 kB\u001b[0m \u001b[31m6.4 MB/s\u001b[0m eta \u001b[36m0:00:00\u001b[0m\n",
            "\u001b[?25h  Building wheel for pypika (pyproject.toml) ... \u001b[?25l\u001b[?25hdone\n",
            "\u001b[2K     \u001b[90m━━━━━━━━━━━━━━━━━━━━━━━━━━━━━━━━━━━━━━━━\u001b[0m \u001b[32m981.5/981.5 kB\u001b[0m \u001b[31m17.7 MB/s\u001b[0m eta \u001b[36m0:00:00\u001b[0m\n",
            "\u001b[?25h  Preparing metadata (setup.py) ... \u001b[?25l\u001b[?25hdone\n",
            "\u001b[2K   \u001b[90m━━━━━━━━━━━━━━━━━━━━━━━━━━━━━━━━━━━━━━━━\u001b[0m \u001b[32m1.8/1.8 MB\u001b[0m \u001b[31m60.2 MB/s\u001b[0m eta \u001b[36m0:00:00\u001b[0m\n",
            "\u001b[2K   \u001b[90m━━━━━━━━━━━━━━━━━━━━━━━━━━━━━━━━━━━━━━━━\u001b[0m \u001b[32m590.6/590.6 kB\u001b[0m \u001b[31m36.9 MB/s\u001b[0m eta \u001b[36m0:00:00\u001b[0m\n",
            "\u001b[2K   \u001b[90m━━━━━━━━━━━━━━━━━━━━━━━━━━━━━━━━━━━━━━━━\u001b[0m \u001b[32m167.1/167.1 kB\u001b[0m \u001b[31m13.7 MB/s\u001b[0m eta \u001b[36m0:00:00\u001b[0m\n",
            "\u001b[2K   \u001b[90m━━━━━━━━━━━━━━━━━━━━━━━━━━━━━━━━━━━━━━━━\u001b[0m \u001b[32m3.1/3.1 MB\u001b[0m \u001b[31m81.5 MB/s\u001b[0m eta \u001b[36m0:00:00\u001b[0m\n",
            "\u001b[2K   \u001b[90m━━━━━━━━━━━━━━━━━━━━━━━━━━━━━━━━━━━━━━━━\u001b[0m \u001b[32m112.5/112.5 kB\u001b[0m \u001b[31m9.7 MB/s\u001b[0m eta \u001b[36m0:00:00\u001b[0m\n",
            "\u001b[2K   \u001b[90m━━━━━━━━━━━━━━━━━━━━━━━━━━━━━━━━━━━━━━━━\u001b[0m \u001b[32m114.6/114.6 kB\u001b[0m \u001b[31m8.8 MB/s\u001b[0m eta \u001b[36m0:00:00\u001b[0m\n",
            "\u001b[?25h  Building wheel for langdetect (setup.py) ... \u001b[?25l\u001b[?25hdone\n",
            "\u001b[2K   \u001b[90m━━━━━━━━━━━━━━━━━━━━━━━━━━━━━━━━━━━━━━━━\u001b[0m \u001b[32m484.9/484.9 kB\u001b[0m \u001b[31m9.5 MB/s\u001b[0m eta \u001b[36m0:00:00\u001b[0m\n",
            "\u001b[2K   \u001b[90m━━━━━━━━━━━━━━━━━━━━━━━━━━━━━━━━━━━━━━━━\u001b[0m \u001b[32m116.3/116.3 kB\u001b[0m \u001b[31m8.9 MB/s\u001b[0m eta \u001b[36m0:00:00\u001b[0m\n",
            "\u001b[2K   \u001b[90m━━━━━━━━━━━━━━━━━━━━━━━━━━━━━━━━━━━━━━━━\u001b[0m \u001b[32m143.5/143.5 kB\u001b[0m \u001b[31m10.8 MB/s\u001b[0m eta \u001b[36m0:00:00\u001b[0m\n",
            "\u001b[2K   \u001b[90m━━━━━━━━━━━━━━━━━━━━━━━━━━━━━━━━━━━━━━━━\u001b[0m \u001b[32m194.8/194.8 kB\u001b[0m \u001b[31m15.0 MB/s\u001b[0m eta \u001b[36m0:00:00\u001b[0m\n",
            "\u001b[2K   \u001b[90m━━━━━━━━━━━━━━━━━━━━━━━━━━━━━━━━━━━━━━━━\u001b[0m \u001b[32m178.3/178.3 kB\u001b[0m \u001b[31m4.4 MB/s\u001b[0m eta \u001b[36m0:00:00\u001b[0m\n",
            "\u001b[2K   \u001b[90m━━━━━━━━━━━━━━━━━━━━━━━━━━━━━━━━━━━━━━━━\u001b[0m \u001b[32m45.5/45.5 kB\u001b[0m \u001b[31m2.3 MB/s\u001b[0m eta \u001b[36m0:00:00\u001b[0m\n",
            "\u001b[?25h"
          ]
        }
      ],
      "source": [
        "%pip install -qU langchain_community\n",
        "%pip install -qU pypdf\n",
        "%pip install -qU nltk\n",
        "%pip install -qU langchain_openai langchain_chroma\n",
        "%pip install -qU unstructured\n",
        "%pip install -qU datasets\n",
        "%pip install -qU ragas\n",
        "%pip install -qU tqdm\n",
        "%pip install -qU japanize_matplotlib"
      ]
    },
    {
      "cell_type": "markdown",
      "metadata": {
        "id": "GVehmLMvVRGR"
      },
      "source": [
        "API KEYの設定"
      ]
    },
    {
      "cell_type": "code",
      "execution_count": 7,
      "metadata": {
        "id": "-DrXeo3AVRGR"
      },
      "outputs": [],
      "source": [
        "import os\n",
        "from google.colab import userdata\n",
        "os.environ[\"OPENAI_API_KEY\"] = userdata.get('OPENAI_API_KEY')"
      ]
    },
    {
      "cell_type": "markdown",
      "source": [
        "# RAG関連の関数の定義\n",
        "\n",
        "streamlitアプリのrag.pyのコードをほとんどそのままコピペしてきてます。"
      ],
      "metadata": {
        "id": "HqKCpwebdjn5"
      }
    },
    {
      "cell_type": "code",
      "source": [
        "from langchain_community.document_loaders import PyPDFLoader, PyPDFDirectoryLoader\n",
        "from langchain_text_splitters import RecursiveCharacterTextSplitter\n",
        "from langchain_chroma import Chroma\n",
        "from langchain_openai import OpenAIEmbeddings\n",
        "from langchain_core.prompts import ChatPromptTemplate\n",
        "import shutil\n",
        "import os\n",
        "from langchain_openai import ChatOpenAI\n",
        "import chromadb\n",
        "\n",
        "from typing import List, Dict, Any\n",
        "from langchain_core.vectorstores import VectorStore\n",
        "from langchain_core.documents import Document\n",
        "\n",
        "def load_PDF(path: str) -> List[Document]:\n",
        "    if os.path.isdir(path):\n",
        "        loader = PyPDFDirectoryLoader(path, glob=\"*.pdf\")\n",
        "        try:\n",
        "            documents = loader.load()\n",
        "        except Exception as error:\n",
        "            print(error)\n",
        "    elif os.path.isfile(path):\n",
        "        if not path.lower().endswith('.pdf'):\n",
        "            raise ValueError(f\"与えられたファイル：  '{path}' はPDFではありません.\")\n",
        "        loader = PyPDFLoader(path)\n",
        "        documents = loader.load()\n",
        "    else:\n",
        "        raise ValueError(f\"与えられたパス： '{path}' はファイルでもディレクトリでもありません。\")\n",
        "    if not documents:\n",
        "        raise ValueError(f\"与えられたパス： '{path}' からのファイルの読み込みに失敗しました。\")\n",
        "    return documents\n",
        "\n",
        "def create_chunks(documents: List[Document], chunk_size: int, chunk_overlap: int) -> List[Document]:\n",
        "    text_splitter = RecursiveCharacterTextSplitter(\n",
        "        chunk_size=chunk_size,\n",
        "        chunk_overlap=chunk_overlap,\n",
        "        length_function=len,\n",
        "        add_start_index=True\n",
        "    )\n",
        "    chunks = text_splitter.split_documents(documents)\n",
        "    return chunks\n",
        "\n",
        "def init_vector_db(embedding_model:Any,db_path:str)->Chroma:\n",
        "    if os.path.exists(db_path):\n",
        "        shutil.rmtree(db_path)\n",
        "    chromadb.api.client.SharedSystemClient.clear_system_cache()\n",
        "    vector_db = Chroma(\n",
        "        collection_name='rag_app_collection',\n",
        "        embedding_function=embedding_model,\n",
        "        persist_directory=db_path,\n",
        "        collection_metadata={\"hnsw:space\": \"cosine\"}\n",
        "        )\n",
        "    return vector_db\n",
        "\n",
        "def get_context_from_db(vector_db:VectorStore, query:str, k:int=5, score_threshold:float=None)->List[Document]:\n",
        "    contexts = vector_db.similarity_search_with_relevance_scores(query,\n",
        "                                                                 k=k,\n",
        "                                                                 score_threshold=score_threshold)\n",
        "    return contexts\n",
        "\n",
        "def format_prompt(contexts:List[Document], query:str, chat_history:List[Dict[str, str]])->str:\n",
        "    PROMPT = \"\"\"\n",
        "    You are a helpful assistant. Answer the following questions based on the given context:\n",
        "    chat history: {CHAT_HISTORY}\n",
        "\n",
        "    context: {CONTEXT}\n",
        "\n",
        "    Answer the following questions based on the given context:\n",
        "    query: {QUERY}\n",
        "    \"\"\"\n",
        "    prompt = ChatPromptTemplate.from_template(PROMPT)\n",
        "    chat_history = '\\n\\n'.join([f\"{message['role']}: {message['content']}\" for message in chat_history])\n",
        "    sources = [ {'source':doc[0].metadata['source'],'page':doc[0].metadata['page']} for doc in contexts ]\n",
        "    contexts = '\\n'.join([f\"CONTEXT {idx}:\\n{res.page_content}\" for idx, (res, _score) in enumerate(contexts)])\n",
        "    prompt = prompt.format(CHAT_HISTORY=chat_history,CONTEXT=contexts, QUERY=query)\n",
        "    return prompt, sources"
      ],
      "metadata": {
        "id": "hB2PzspQdmrm"
      },
      "execution_count": 88,
      "outputs": []
    },
    {
      "cell_type": "markdown",
      "source": [
        "## ベクトル化"
      ],
      "metadata": {
        "id": "i2XDNiO4d2m6"
      }
    },
    {
      "cell_type": "code",
      "source": [
        "documents = load_PDF(\"/content/RAG-lecture-lesson1/sample_files\")\n",
        "chunks = create_chunks(documents=documents, chunk_size=100, chunk_overlap=0)\n",
        "embedding_model= OpenAIEmbeddings(model='text-embedding-3-small')\n",
        "vector_db = init_vector_db(embedding_model=embedding_model,db_path=\"database\")\n",
        "vector_db.add_documents(documents=chunks)"
      ],
      "metadata": {
        "colab": {
          "base_uri": "https://localhost:8080/"
        },
        "id": "CqZpHQkgd4cM",
        "outputId": "97ab48c0-6eb3-4829-d7f2-d829684660bc"
      },
      "execution_count": 26,
      "outputs": [
        {
          "output_type": "execute_result",
          "data": {
            "text/plain": [
              "['1e42e498-67d8-4fc2-94da-6b917eadc77b',\n",
              " '6b853c5f-0249-43a5-8f0b-c9c2b9cf15b5',\n",
              " '7400ffc8-db8e-426b-be75-e6f10046603c',\n",
              " '00e923c1-0cc6-48ff-a276-4fabcac04e96',\n",
              " 'adf1d866-98b4-4b38-995f-6a44901e54ab',\n",
              " '3de52ba0-6bbe-4ea0-9283-22f674ae984b',\n",
              " '3d7ae24c-16ef-4840-b910-b6a25cb0b36f',\n",
              " '5cbf75b7-721d-428d-9f57-561729422774',\n",
              " '234bfc94-0fd8-4301-a129-b4de3c0522ef',\n",
              " '625630db-44c7-4bfd-a1ba-6e4ca0c282af',\n",
              " '6aade377-f6d8-4074-8581-9e834a4bcb72',\n",
              " '4167b307-34d3-4b70-b2ee-ff8b866fa49d',\n",
              " '7461ebfb-6670-4483-a881-2972a4700315',\n",
              " '087e134f-fbb5-499b-833e-4c63253c623b',\n",
              " 'cc755723-b3e4-472e-8435-49be24072792',\n",
              " '7e992826-5a58-4041-a543-e545806711a4',\n",
              " '7a740968-ba25-44ef-863e-3038c73e44f9',\n",
              " 'd616d2b1-3c04-43cb-8ecd-0e6463240b70']"
            ]
          },
          "metadata": {},
          "execution_count": 26
        }
      ]
    },
    {
      "cell_type": "markdown",
      "source": [
        "# RAGAsによるRAGの評価"
      ],
      "metadata": {
        "id": "4s8JWKDKVXTE"
      }
    },
    {
      "cell_type": "markdown",
      "source": [
        "## 質問とそれに対応する理想的な回答の用意"
      ],
      "metadata": {
        "id": "-Q_Hwq6qVcvL"
      }
    },
    {
      "cell_type": "code",
      "source": [
        "# 質問集\n",
        "questions = [\"この講義はどういうものですか？\",\n",
        "             \"主催者はどういう団体ですか？\",\n",
        "             \"合計何回の講義がありますか？\",\n",
        "             \"講義日程はどうなってますか？\",\n",
        "             \"参加したい場合はどうすれば良いですか？\",\n",
        "             \"担当者の連絡先を教えてください\",\n",
        "             \"参加費はいくらですか？\",\n",
        "             \"何か事前準備は必要ですか？\"]\n",
        "\n",
        "# 理想的な回答\n",
        "ideal_answers = [\"この講義はRAGについて学ぶ講義です。\",\n",
        "                 \"主催者はAI人材の育成に取り組んでいるLabdemyという団体です。\",\n",
        "                 \"講義は合計4回です。\",\n",
        "                 \"講義日程は：\\n 第1回 2/2 (日) 14:00~15:30 \\n 第2回 2/9 (日) 14:00~15:30 \\n 第3回 2/16 (日) 14:00~15:30 \\n 第4回 2/23 (日) 14:00~15:30 \\nです。\",\n",
        "                 \"参加したい場合はこちらの[リンク](https://discord.gg/JaQPZ5Gx?event=1323252933327847464)からdiscordサーバーに参加してください。\",\n",
        "                 \"担当者の連絡先はlecture@labdemy.comです。\",\n",
        "                 \"参加費は無料です。\",\n",
        "                 \"事前準備はPython環境の準備、基礎的なプログラミング知識が必要です。\"]"
      ],
      "metadata": {
        "id": "-8aVJiHmVV4l"
      },
      "execution_count": 27,
      "outputs": []
    },
    {
      "cell_type": "markdown",
      "source": [
        "## 回答の生成"
      ],
      "metadata": {
        "id": "bVCRVKR3ViOV"
      }
    },
    {
      "cell_type": "code",
      "source": [
        "from langchain.chat_models import ChatOpenAI\n",
        "from tqdm import tqdm\n",
        "\n",
        "# モデルの準備\n",
        "chat_model = ChatOpenAI(model_name=\"gpt-4\", temperature=0, openai_api_key=os.environ[\"OPENAI_API_KEY\"])\n",
        "\n",
        "# チャット履歴\n",
        "chat_history = [] #これはずっと空っぽのまま\n",
        "\n",
        "# コンテキスト情報\n",
        "contexts = []\n",
        "\n",
        "# LLMの回答\n",
        "model_answers = []\n",
        "\n",
        "# 各質問に対して回答を生成し、それを記録していく\n",
        "for question in tqdm(questions):\n",
        "  context = get_context_from_db(vector_db,question)\n",
        "  # contextから、文章のみを抽出して記録する\n",
        "  context_text = [item[0].page_content for item in context]\n",
        "  contexts.append(context_text)\n",
        "\n",
        "  final_prompt,_ = format_prompt(context, question,chat_history)\n",
        "  response = chat_model.invoke(final_prompt)\n",
        "  # モデルの回答を記録\n",
        "  model_answers.append(response.content)"
      ],
      "metadata": {
        "colab": {
          "base_uri": "https://localhost:8080/"
        },
        "id": "zIbzcqXkVmC8",
        "outputId": "351e990b-a050-4b59-f2bc-a24a72047915"
      },
      "execution_count": 28,
      "outputs": [
        {
          "output_type": "stream",
          "name": "stderr",
          "text": [
            "<ipython-input-28-6274483e4634>:5: LangChainDeprecationWarning: The class `ChatOpenAI` was deprecated in LangChain 0.0.10 and will be removed in 1.0. An updated version of the class exists in the :class:`~langchain-openai package and should be used instead. To use it run `pip install -U :class:`~langchain-openai` and import as `from :class:`~langchain_openai import ChatOpenAI``.\n",
            "  chat_model = ChatOpenAI(model_name=\"gpt-4\", temperature=0, openai_api_key=os.environ[\"OPENAI_API_KEY\"])\n",
            " 12%|█▎        | 1/8 [00:04<00:32,  4.63s/it]<ipython-input-25-bd2c6b96f717>:55: UserWarning: Relevance scores must be between 0 and 1, got [(Document(id='6aade377-f6d8-4074-8581-9e834a4bcb72', metadata={'creationdate': '2024-12-30T12:27:58+00:00', 'creator': 'Chromium', 'moddate': '2024-12-30T12:27:58+00:00', 'page': 1, 'page_label': '2', 'producer': 'Skia/PDF m119', 'source': '/content/RAG-lecture-lesson1/sample_files/RAG講義のテスト受講案内.pdf', 'start_index': 451, 'total_pages': 3}, page_content='必要な準備： Python 環境の準備、基礎的なプログラミング知識\\n参加費⽤：無料\\n参加⽅法\\nRAG 講義のテスト受講⽤ discord サーバーにご参加ください。（招待リンクは別途\\n添付）'), 0.03583632397197645), (Document(id='625630db-44c7-4bfd-a1ba-6e4ca0c282af', metadata={'creationdate': '2024-12-30T12:27:58+00:00', 'creator': 'Chromium', 'moddate': '2024-12-30T12:27:58+00:00', 'page': 1, 'page_label': '2', 'producer': 'Skia/PDF m119', 'source': '/content/RAG-lecture-lesson1/sample_files/RAG講義のテスト受講案内.pdf', 'start_index': 351, 'total_pages': 3}, page_content='第 3 回  2/16 \\ue081 ⽇ \\ue082 14\\ue09200\\ue0a315\\ue09230\\n第 4 回  2/23 \\ue081 ⽇ \\ue082 14\\ue09200\\ue0a315\\ue09230\\n参加⽅法： Zoom リンク（後⽇共有） ※ 講義は全てオンラインで⾏います。'), -0.02145341801929268), (Document(id='cc755723-b3e4-472e-8435-49be24072792', metadata={'creationdate': '2024-12-30T12:27:58+00:00', 'creator': 'Chromium', 'moddate': '2024-12-30T12:27:58+00:00', 'page': 2, 'page_label': '3', 'producer': 'Skia/PDF m119', 'source': '/content/RAG-lecture-lesson1/sample_files/RAG講義のテスト受講案内.pdf', 'start_index': 0, 'total_pages': 3}, page_content='RA G 講 義 の テ ス ト 受 講 案 内\\n3\\n講義期間中のサポート体制について'), -0.038850237428948775), (Document(id='6b853c5f-0249-43a5-8f0b-c9c2b9cf15b5', metadata={'creationdate': '2024-12-30T12:27:58+00:00', 'creator': 'Chromium', 'moddate': '2024-12-30T12:27:58+00:00', 'page': 0, 'page_label': '1', 'producer': 'Skia/PDF m119', 'source': '/content/RAG-lecture-lesson1/sample_files/RAG講義のテスト受講案内.pdf', 'start_index': 44, 'total_pages': 3}, page_content='この度は、 Labdemy の RAG （ Retrieval-Augmented Generation ）講義のテスト受講に\\nご興味を⽰していただき、誠にありがとうございます！'), -0.10169637666744968), (Document(id='d616d2b1-3c04-43cb-8ecd-0e6463240b70', metadata={'creationdate': '2024-12-30T12:27:58+00:00', 'creator': 'Chromium', 'moddate': '2024-12-30T12:27:58+00:00', 'page': 2, 'page_label': '3', 'producer': 'Skia/PDF m119', 'source': '/content/RAG-lecture-lesson1/sample_files/RAG講義のテスト受講案内.pdf', 'start_index': 177, 'total_pages': 3}, page_content='もしご質問等ございましたら、  lecture@labdemy.com 宛にご連絡ください。'), -0.11806604661055364)]\n",
            "  contexts = vector_db.similarity_search_with_relevance_scores(query,\n",
            " 50%|█████     | 4/8 [00:12<00:12,  3.14s/it]<ipython-input-25-bd2c6b96f717>:55: UserWarning: Relevance scores must be between 0 and 1, got [(Document(id='625630db-44c7-4bfd-a1ba-6e4ca0c282af', metadata={'creationdate': '2024-12-30T12:27:58+00:00', 'creator': 'Chromium', 'moddate': '2024-12-30T12:27:58+00:00', 'page': 1, 'page_label': '2', 'producer': 'Skia/PDF m119', 'source': '/content/RAG-lecture-lesson1/sample_files/RAG講義のテスト受講案内.pdf', 'start_index': 351, 'total_pages': 3}, page_content='第 3 回  2/16 \\ue081 ⽇ \\ue082 14\\ue09200\\ue0a315\\ue09230\\n第 4 回  2/23 \\ue081 ⽇ \\ue082 14\\ue09200\\ue0a315\\ue09230\\n参加⽅法： Zoom リンク（後⽇共有） ※ 講義は全てオンラインで⾏います。'), 0.1261739394154121), (Document(id='6aade377-f6d8-4074-8581-9e834a4bcb72', metadata={'creationdate': '2024-12-30T12:27:58+00:00', 'creator': 'Chromium', 'moddate': '2024-12-30T12:27:58+00:00', 'page': 1, 'page_label': '2', 'producer': 'Skia/PDF m119', 'source': '/content/RAG-lecture-lesson1/sample_files/RAG講義のテスト受講案内.pdf', 'start_index': 451, 'total_pages': 3}, page_content='必要な準備： Python 環境の準備、基礎的なプログラミング知識\\n参加費⽤：無料\\n参加⽅法\\nRAG 講義のテスト受講⽤ discord サーバーにご参加ください。（招待リンクは別途\\n添付）'), 0.12101036544407029), (Document(id='d616d2b1-3c04-43cb-8ecd-0e6463240b70', metadata={'creationdate': '2024-12-30T12:27:58+00:00', 'creator': 'Chromium', 'moddate': '2024-12-30T12:27:58+00:00', 'page': 2, 'page_label': '3', 'producer': 'Skia/PDF m119', 'source': '/content/RAG-lecture-lesson1/sample_files/RAG講義のテスト受講案内.pdf', 'start_index': 177, 'total_pages': 3}, page_content='もしご質問等ございましたら、  lecture@labdemy.com 宛にご連絡ください。'), 0.008979827300199972), (Document(id='7a740968-ba25-44ef-863e-3038c73e44f9', metadata={'creationdate': '2024-12-30T12:27:58+00:00', 'creator': 'Chromium', 'moddate': '2024-12-30T12:27:58+00:00', 'page': 2, 'page_label': '3', 'producer': 'Skia/PDF m119', 'source': '/content/RAG-lecture-lesson1/sample_files/RAG講義のテスト受講案内.pdf', 'start_index': 105, 'total_pages': 3}, page_content='メンションを付けて質問をしてください。可能な限り迅速に回答いたしますが、質問内\\n容に応じて返信に時間がかかる場合がございます。\\nお問い合わせ先'), -0.02139999539597448), (Document(id='1e42e498-67d8-4fc2-94da-6b917eadc77b', metadata={'creationdate': '2024-12-30T12:27:58+00:00', 'creator': 'Chromium', 'moddate': '2024-12-30T12:27:58+00:00', 'page': 0, 'page_label': '1', 'producer': 'Skia/PDF m119', 'source': '/content/RAG-lecture-lesson1/sample_files/RAG講義のテスト受講案内.pdf', 'start_index': 0, 'total_pages': 3}, page_content='RA G 講 義 の テ ス ト 受 講 案 内\\n1\\nR A G 講義のテスト受講案内'), -0.033434730279474856)]\n",
            "  contexts = vector_db.similarity_search_with_relevance_scores(query,\n",
            " 75%|███████▌  | 6/8 [00:17<00:05,  2.87s/it]<ipython-input-25-bd2c6b96f717>:55: UserWarning: Relevance scores must be between 0 and 1, got [(Document(id='6aade377-f6d8-4074-8581-9e834a4bcb72', metadata={'creationdate': '2024-12-30T12:27:58+00:00', 'creator': 'Chromium', 'moddate': '2024-12-30T12:27:58+00:00', 'page': 1, 'page_label': '2', 'producer': 'Skia/PDF m119', 'source': '/content/RAG-lecture-lesson1/sample_files/RAG講義のテスト受講案内.pdf', 'start_index': 451, 'total_pages': 3}, page_content='必要な準備： Python 環境の準備、基礎的なプログラミング知識\\n参加費⽤：無料\\n参加⽅法\\nRAG 講義のテスト受講⽤ discord サーバーにご参加ください。（招待リンクは別途\\n添付）'), 0.16094671097743696), (Document(id='625630db-44c7-4bfd-a1ba-6e4ca0c282af', metadata={'creationdate': '2024-12-30T12:27:58+00:00', 'creator': 'Chromium', 'moddate': '2024-12-30T12:27:58+00:00', 'page': 1, 'page_label': '2', 'producer': 'Skia/PDF m119', 'source': '/content/RAG-lecture-lesson1/sample_files/RAG講義のテスト受講案内.pdf', 'start_index': 351, 'total_pages': 3}, page_content='第 3 回  2/16 \\ue081 ⽇ \\ue082 14\\ue09200\\ue0a315\\ue09230\\n第 4 回  2/23 \\ue081 ⽇ \\ue082 14\\ue09200\\ue0a315\\ue09230\\n参加⽅法： Zoom リンク（後⽇共有） ※ 講義は全てオンラインで⾏います。'), 0.09296286743762194), (Document(id='1e42e498-67d8-4fc2-94da-6b917eadc77b', metadata={'creationdate': '2024-12-30T12:27:58+00:00', 'creator': 'Chromium', 'moddate': '2024-12-30T12:27:58+00:00', 'page': 0, 'page_label': '1', 'producer': 'Skia/PDF m119', 'source': '/content/RAG-lecture-lesson1/sample_files/RAG講義のテスト受講案内.pdf', 'start_index': 0, 'total_pages': 3}, page_content='RA G 講 義 の テ ス ト 受 講 案 内\\n1\\nR A G 講義のテスト受講案内'), -0.03813404682151078), (Document(id='d616d2b1-3c04-43cb-8ecd-0e6463240b70', metadata={'creationdate': '2024-12-30T12:27:58+00:00', 'creator': 'Chromium', 'moddate': '2024-12-30T12:27:58+00:00', 'page': 2, 'page_label': '3', 'producer': 'Skia/PDF m119', 'source': '/content/RAG-lecture-lesson1/sample_files/RAG講義のテスト受講案内.pdf', 'start_index': 177, 'total_pages': 3}, page_content='もしご質問等ございましたら、  lecture@labdemy.com 宛にご連絡ください。'), -0.04402727114245053), (Document(id='cc755723-b3e4-472e-8435-49be24072792', metadata={'creationdate': '2024-12-30T12:27:58+00:00', 'creator': 'Chromium', 'moddate': '2024-12-30T12:27:58+00:00', 'page': 2, 'page_label': '3', 'producer': 'Skia/PDF m119', 'source': '/content/RAG-lecture-lesson1/sample_files/RAG講義のテスト受講案内.pdf', 'start_index': 0, 'total_pages': 3}, page_content='RA G 講 義 の テ ス ト 受 講 案 内\\n3\\n講義期間中のサポート体制について'), -0.05936513279561195)]\n",
            "  contexts = vector_db.similarity_search_with_relevance_scores(query,\n",
            " 88%|████████▊ | 7/8 [00:18<00:02,  2.26s/it]<ipython-input-25-bd2c6b96f717>:55: UserWarning: Relevance scores must be between 0 and 1, got [(Document(id='6aade377-f6d8-4074-8581-9e834a4bcb72', metadata={'creationdate': '2024-12-30T12:27:58+00:00', 'creator': 'Chromium', 'moddate': '2024-12-30T12:27:58+00:00', 'page': 1, 'page_label': '2', 'producer': 'Skia/PDF m119', 'source': '/content/RAG-lecture-lesson1/sample_files/RAG講義のテスト受講案内.pdf', 'start_index': 451, 'total_pages': 3}, page_content='必要な準備： Python 環境の準備、基礎的なプログラミング知識\\n参加費⽤：無料\\n参加⽅法\\nRAG 講義のテスト受講⽤ discord サーバーにご参加ください。（招待リンクは別途\\n添付）'), 0.07770742271038422), (Document(id='3de52ba0-6bbe-4ea0-9283-22f674ae984b', metadata={'creationdate': '2024-12-30T12:27:58+00:00', 'creator': 'Chromium', 'moddate': '2024-12-30T12:27:58+00:00', 'page': 1, 'page_label': '2', 'producer': 'Skia/PDF m119', 'source': '/content/RAG-lecture-lesson1/sample_files/RAG講義のテスト受講案内.pdf', 'start_index': 0, 'total_pages': 3}, page_content='RA G 講 義 の テ ス ト 受 講 案 内\\n2\\n第 1 回\\u2003 R A G の基本\\nRAG の基本概念と理論を学び、基礎的な RAG システムを構築できるようになります。'), -0.0023930061129748825), (Document(id='1e42e498-67d8-4fc2-94da-6b917eadc77b', metadata={'creationdate': '2024-12-30T12:27:58+00:00', 'creator': 'Chromium', 'moddate': '2024-12-30T12:27:58+00:00', 'page': 0, 'page_label': '1', 'producer': 'Skia/PDF m119', 'source': '/content/RAG-lecture-lesson1/sample_files/RAG講義のテスト受講案内.pdf', 'start_index': 0, 'total_pages': 3}, page_content='RA G 講 義 の テ ス ト 受 講 案 内\\n1\\nR A G 講義のテスト受講案内'), -0.01187551555234978), (Document(id='625630db-44c7-4bfd-a1ba-6e4ca0c282af', metadata={'creationdate': '2024-12-30T12:27:58+00:00', 'creator': 'Chromium', 'moddate': '2024-12-30T12:27:58+00:00', 'page': 1, 'page_label': '2', 'producer': 'Skia/PDF m119', 'source': '/content/RAG-lecture-lesson1/sample_files/RAG講義のテスト受講案内.pdf', 'start_index': 351, 'total_pages': 3}, page_content='第 3 回  2/16 \\ue081 ⽇ \\ue082 14\\ue09200\\ue0a315\\ue09230\\n第 4 回  2/23 \\ue081 ⽇ \\ue082 14\\ue09200\\ue0a315\\ue09230\\n参加⽅法： Zoom リンク（後⽇共有） ※ 講義は全てオンラインで⾏います。'), -0.01940296284986731), (Document(id='7a740968-ba25-44ef-863e-3038c73e44f9', metadata={'creationdate': '2024-12-30T12:27:58+00:00', 'creator': 'Chromium', 'moddate': '2024-12-30T12:27:58+00:00', 'page': 2, 'page_label': '3', 'producer': 'Skia/PDF m119', 'source': '/content/RAG-lecture-lesson1/sample_files/RAG講義のテスト受講案内.pdf', 'start_index': 105, 'total_pages': 3}, page_content='メンションを付けて質問をしてください。可能な限り迅速に回答いたしますが、質問内\\n容に応じて返信に時間がかかる場合がございます。\\nお問い合わせ先'), -0.024944295414291995)]\n",
            "  contexts = vector_db.similarity_search_with_relevance_scores(query,\n",
            "100%|██████████| 8/8 [00:21<00:00,  2.66s/it]\n"
          ]
        }
      ]
    },
    {
      "cell_type": "markdown",
      "source": [
        "## RAGAs評価"
      ],
      "metadata": {
        "id": "a3rhRU_MVmX_"
      }
    },
    {
      "cell_type": "code",
      "source": [
        "#評価データセット作成\n",
        "from datasets import Dataset\n",
        "\n",
        "eval_dataset_dict = {\n",
        "  \"user_input\": questions, #質問集\n",
        "  \"response\": model_answers, #LLMの回答\n",
        "  \"retrieved_contexts\": contexts, #コンテキスト情報\n",
        "  \"reference\": ideal_answers #理想的な回答\n",
        "}\n",
        "\n",
        "eval_dataset = Dataset.from_dict(eval_dataset_dict)"
      ],
      "metadata": {
        "id": "cwWb7xaei8Xp"
      },
      "execution_count": 29,
      "outputs": []
    },
    {
      "cell_type": "code",
      "source": [
        "from ragas import evaluate\n",
        "from ragas.metrics import (\n",
        "    answer_relevancy,\n",
        "    faithfulness,\n",
        "    context_recall,\n",
        "    context_precision,\n",
        ")"
      ],
      "metadata": {
        "id": "1Ozxd3MnVoMB"
      },
      "execution_count": 30,
      "outputs": []
    },
    {
      "cell_type": "code",
      "source": [
        "scores = evaluate(\n",
        "    dataset=eval_dataset,\n",
        "    metrics=[context_precision,context_recall,answer_relevancy,faithfulness]\n",
        ")\n",
        "\n",
        "print(scores)"
      ],
      "metadata": {
        "colab": {
          "base_uri": "https://localhost:8080/",
          "height": 67,
          "referenced_widgets": [
            "f16c2b6d2e5a43a1bd337472b68e7d28",
            "963433e4bb7e454588b5eb92881b4239",
            "cae5a2ffe3044da7870eab77f3e80c4a",
            "9d1bffd59a954c05b372fab1657ce92d",
            "ea62dffb26cc4fa6bc9c691446d4dfdc",
            "67ae4ed12e834382ab0b78794d27e9ab",
            "2b3d33c941814bdeb7beb9465f62948a",
            "ebf47314fe7143dc89b61d9143a75e4f",
            "4dc0d6770f5042b3b975483b0f8ccef3",
            "6822cef1804e45969af3ccd2b84b64d2",
            "257d7252751d4c2a9f2410f2ccf4366e"
          ]
        },
        "id": "II4Bo2NDlIYC",
        "outputId": "9244f406-b30c-4f0b-d3fc-2c88f7975032"
      },
      "execution_count": 31,
      "outputs": [
        {
          "output_type": "display_data",
          "data": {
            "text/plain": [
              "Evaluating:   0%|          | 0/32 [00:00<?, ?it/s]"
            ],
            "application/vnd.jupyter.widget-view+json": {
              "version_major": 2,
              "version_minor": 0,
              "model_id": "f16c2b6d2e5a43a1bd337472b68e7d28"
            }
          },
          "metadata": {}
        },
        {
          "output_type": "stream",
          "name": "stdout",
          "text": [
            "{'context_precision': 0.6667, 'context_recall': 0.8125, 'answer_relevancy': 0.8276, 'faithfulness': 0.8438}\n"
          ]
        }
      ]
    },
    {
      "cell_type": "markdown",
      "source": [
        "**評価値の解釈(復習)：**\n",
        "\n",
        "retreivalに対する評価\n",
        "- context precision: 検索して取り出した情報のうち、本当に役に立った情報の割合\n",
        "- context recall: 必要な情報をどれくらい取りこぼさずに取得できたか\n",
        "\n",
        "回答に対する評価\n",
        "- answer relevancy: 質問に対してどれくらい良い回答になってるか\n",
        "- faithfulness: 「hallucination」を測る指標\n",
        "\n"
      ],
      "metadata": {
        "id": "P8hsfBJ_DmJT"
      }
    },
    {
      "cell_type": "code",
      "source": [
        "# 各質問に対する評価値を個別で見ることも可能\n",
        "scores['context_precision']"
      ],
      "metadata": {
        "colab": {
          "base_uri": "https://localhost:8080/"
        },
        "id": "XM6HQv4-_RgN",
        "outputId": "e2cef9e4-098d-4456-9e63-a68906b5fd15"
      },
      "execution_count": 49,
      "outputs": [
        {
          "output_type": "execute_result",
          "data": {
            "text/plain": [
              "[0.499999999975,\n",
              " 0.0,\n",
              " 0.8333333332916666,\n",
              " 0.9999999999,\n",
              " 0.49999999995,\n",
              " 0.49999999995,\n",
              " 0.9999999999,\n",
              " 0.9999999999]"
            ]
          },
          "metadata": {},
          "execution_count": 49
        }
      ]
    },
    {
      "cell_type": "code",
      "source": [
        "for question,model_answer,context,ideal_answer,cp,cr,ar,ft in zip(questions,model_answers,contexts,ideal_answers,scores['context_precision'],scores['context_recall'],scores['answer_relevancy'],scores['faithfulness']):\n",
        "  print(\"=\"*20)\n",
        "  print(\"\\n【元々の質問】\\n\",question,\"\\n\")\n",
        "  print(\"【理想的な回答】\\n\",ideal_answer,\"\\n\")\n",
        "  print(\"【context情報】\")\n",
        "  for c in context:\n",
        "    print('-',c)\n",
        "  print(\"\\n\")\n",
        "  print(\"【LLMの回答】\\n\",model_answer,\"\\n\")\n",
        "  print(f\"【評価】\\n cp:{cp:.2f}, cr:{cr:.2f}, ar:{ar:.2f}, ft:{ft:.2f} \\n\")"
      ],
      "metadata": {
        "colab": {
          "base_uri": "https://localhost:8080/"
        },
        "id": "clG5Z4A6q2f8",
        "outputId": "40deefd1-bf4a-41fe-cf71-1ab74dc04f91"
      },
      "execution_count": 71,
      "outputs": [
        {
          "output_type": "stream",
          "name": "stdout",
          "text": [
            "====================\n",
            "\n",
            "【元々の質問】\n",
            " この講義はどういうものですか？ \n",
            "\n",
            "【理想的な回答】\n",
            " この講義はRAGについて学ぶ講義です。 \n",
            "\n",
            "【context情報】\n",
            "- 講義期間中は、 #lecture-test-rag-qa チャンネルにて質問を承ります！  @lectur ers  に\n",
            "- 務課題の経験を通して真に AI を活⽤できる⼈材の育成に取り組んでいます。\n",
            "講義概要\n",
            "合計 4 回の講義に渡って RAG について網羅的に勉強していただきます。最終的には添付\n",
            "- 第 3 回  2/16  ⽇  14001530\n",
            "第 4 回  2/23  ⽇  14001530\n",
            "参加⽅法： Zoom リンク（後⽇共有） ※ 講義は全てオンラインで⾏います。\n",
            "- この度は、 Labdemy の RAG （ Retrieval-Augmented Generation ）講義のテスト受講に\n",
            "ご興味を⽰していただき、誠にありがとうございます！\n",
            "- RA G 講 義 の テ ス ト 受 講 案 内\n",
            "1\n",
            "R A G 講義のテスト受講案内\n",
            "\n",
            "\n",
            "【LLMの回答】\n",
            " Assistant: \n",
            "この講義は、RAG（Retrieval-Augmented Generation）について網羅的に学ぶものです。合計4回の講義を通じて、AIを活用できる人材の育成に取り組んでいます。講義は全てオンラインで行われ、Zoomリンクを通じて参加することができます。 \n",
            "\n",
            "【評価】\n",
            " cp:0.50, cr:1.00, ar:0.77, ft:0.75 \n",
            "\n",
            "====================\n",
            "\n",
            "【元々の質問】\n",
            " 主催者はどういう団体ですか？ \n",
            "\n",
            "【理想的な回答】\n",
            " 主催者はAI人材の育成に取り組んでいるLabdemyという団体です。 \n",
            "\n",
            "【context情報】\n",
            "- 必要な準備： Python 環境の準備、基礎的なプログラミング知識\n",
            "参加費⽤：無料\n",
            "参加⽅法\n",
            "RAG 講義のテスト受講⽤ discord サーバーにご参加ください。（招待リンクは別途\n",
            "添付）\n",
            "- 第 3 回  2/16  ⽇  14001530\n",
            "第 4 回  2/23  ⽇  14001530\n",
            "参加⽅法： Zoom リンク（後⽇共有） ※ 講義は全てオンラインで⾏います。\n",
            "- RA G 講 義 の テ ス ト 受 講 案 内\n",
            "3\n",
            "講義期間中のサポート体制について\n",
            "- この度は、 Labdemy の RAG （ Retrieval-Augmented Generation ）講義のテスト受講に\n",
            "ご興味を⽰していただき、誠にありがとうございます！\n",
            "- もしご質問等ございましたら、  lecture@labdemy.com 宛にご連絡ください。\n",
            "\n",
            "\n",
            "【LLMの回答】\n",
            " Assistant: \n",
            "主催者はLabdemyという団体です。 \n",
            "\n",
            "【評価】\n",
            " cp:0.00, cr:1.00, ar:0.87, ft:0.00 \n",
            "\n",
            "====================\n",
            "\n",
            "【元々の質問】\n",
            " 合計何回の講義がありますか？ \n",
            "\n",
            "【理想的な回答】\n",
            " 講義は合計4回です。 \n",
            "\n",
            "【context情報】\n",
            "- 第 3 回  2/16  ⽇  14001530\n",
            "第 4 回  2/23  ⽇  14001530\n",
            "参加⽅法： Zoom リンク（後⽇共有） ※ 講義は全てオンラインで⾏います。\n",
            "- 講義期間中は、 #lecture-test-rag-qa チャンネルにて質問を承ります！  @lectur ers  に\n",
            "- 務課題の経験を通して真に AI を活⽤できる⼈材の育成に取り組んでいます。\n",
            "講義概要\n",
            "合計 4 回の講義に渡って RAG について網羅的に勉強していただきます。最終的には添付\n",
            "- RA G 講 義 の テ ス ト 受 講 案 内\n",
            "1\n",
            "R A G 講義のテスト受講案内\n",
            "- もしご質問等ございましたら、  lecture@labdemy.com 宛にご連絡ください。\n",
            "\n",
            "\n",
            "【LLMの回答】\n",
            " Assistant: 合計で4回の講義があります。 \n",
            "\n",
            "【評価】\n",
            " cp:0.83, cr:1.00, ar:0.86, ft:1.00 \n",
            "\n",
            "====================\n",
            "\n",
            "【元々の質問】\n",
            " 講義日程はどうなってますか？ \n",
            "\n",
            "【理想的な回答】\n",
            " 講義日程は：\n",
            " 第1回 2/2 (日) 14:00~15:30 \n",
            " 第2回 2/9 (日) 14:00~15:30 \n",
            " 第3回 2/16 (日) 14:00~15:30 \n",
            " 第4回 2/23 (日) 14:00~15:30 \n",
            "です。 \n",
            "\n",
            "【context情報】\n",
            "- 第 3 回  2/16  ⽇  14001530\n",
            "第 4 回  2/23  ⽇  14001530\n",
            "参加⽅法： Zoom リンク（後⽇共有） ※ 講義は全てオンラインで⾏います。\n",
            "- RA G 講 義 の テ ス ト 受 講 案 内\n",
            "3\n",
            "講義期間中のサポート体制について\n",
            "- 講義期間中は、 #lecture-test-rag-qa チャンネルにて質問を承ります！  @lectur ers  に\n",
            "- RA G 講 義 の テ ス ト 受 講 案 内\n",
            "1\n",
            "R A G 講義のテスト受講案内\n",
            "- 必要な準備： Python 環境の準備、基礎的なプログラミング知識\n",
            "参加費⽤：無料\n",
            "参加⽅法\n",
            "RAG 講義のテスト受講⽤ discord サーバーにご参加ください。（招待リンクは別途\n",
            "添付）\n",
            "\n",
            "\n",
            "【LLMの回答】\n",
            " Assistant: \n",
            "講義は次の日程で行われます：\n",
            "第 3 回は2月16日、14:00から15:30まで。\n",
            "第 4 回は2月23日、14:00から15:30まで。\n",
            "全ての講義はオンラインで、Zoomリンクを通じて行われます。リンクは後日共有されます。 \n",
            "\n",
            "【評価】\n",
            " cp:1.00, cr:0.50, ar:0.86, ft:1.00 \n",
            "\n",
            "====================\n",
            "\n",
            "【元々の質問】\n",
            " 参加したい場合はどうすれば良いですか？ \n",
            "\n",
            "【理想的な回答】\n",
            " 参加したい場合はこちらの[リンク](https://discord.gg/JaQPZ5Gx?event=1323252933327847464)からdiscordサーバーに参加してください。 \n",
            "\n",
            "【context情報】\n",
            "- 第 3 回  2/16  ⽇  14001530\n",
            "第 4 回  2/23  ⽇  14001530\n",
            "参加⽅法： Zoom リンク（後⽇共有） ※ 講義は全てオンラインで⾏います。\n",
            "- 必要な準備： Python 環境の準備、基礎的なプログラミング知識\n",
            "参加費⽤：無料\n",
            "参加⽅法\n",
            "RAG 講義のテスト受講⽤ discord サーバーにご参加ください。（招待リンクは別途\n",
            "添付）\n",
            "- もしご質問等ございましたら、  lecture@labdemy.com 宛にご連絡ください。\n",
            "- メンションを付けて質問をしてください。可能な限り迅速に回答いたしますが、質問内\n",
            "容に応じて返信に時間がかかる場合がございます。\n",
            "お問い合わせ先\n",
            "- RA G 講 義 の テ ス ト 受 講 案 内\n",
            "1\n",
            "R A G 講義のテスト受講案内\n",
            "\n",
            "\n",
            "【LLMの回答】\n",
            " Assistant: \n",
            "参加したい場合は、Zoomリンクを通じて全ての講義にオンラインで参加することができます。また、RAG講義のテスト受講用のDiscordサーバーにも参加することが推奨されています。招待リンクは別途提供されます。 \n",
            "\n",
            "【評価】\n",
            " cp:0.50, cr:0.00, ar:0.79, ft:1.00 \n",
            "\n",
            "====================\n",
            "\n",
            "【元々の質問】\n",
            " 担当者の連絡先を教えてください \n",
            "\n",
            "【理想的な回答】\n",
            " 担当者の連絡先はlecture@labdemy.comです。 \n",
            "\n",
            "【context情報】\n",
            "- メンションを付けて質問をしてください。可能な限り迅速に回答いたしますが、質問内\n",
            "容に応じて返信に時間がかかる場合がございます。\n",
            "お問い合わせ先\n",
            "- もしご質問等ございましたら、  lecture@labdemy.com 宛にご連絡ください。\n",
            "- RA G 講 義 の テ ス ト 受 講 案 内\n",
            "3\n",
            "講義期間中のサポート体制について\n",
            "- 第 3 回  2/16  ⽇  14001530\n",
            "第 4 回  2/23  ⽇  14001530\n",
            "参加⽅法： Zoom リンク（後⽇共有） ※ 講義は全てオンラインで⾏います。\n",
            "- 講義期間中は、 #lecture-test-rag-qa チャンネルにて質問を承ります！  @lectur ers  に\n",
            "\n",
            "\n",
            "【LLMの回答】\n",
            " Assistant: \n",
            "担当者への連絡は、lecture@labdemy.com 宛にご連絡ください。 \n",
            "\n",
            "【評価】\n",
            " cp:0.50, cr:1.00, ar:0.80, ft:1.00 \n",
            "\n",
            "====================\n",
            "\n",
            "【元々の質問】\n",
            " 参加費はいくらですか？ \n",
            "\n",
            "【理想的な回答】\n",
            " 参加費は無料です。 \n",
            "\n",
            "【context情報】\n",
            "- 必要な準備： Python 環境の準備、基礎的なプログラミング知識\n",
            "参加費⽤：無料\n",
            "参加⽅法\n",
            "RAG 講義のテスト受講⽤ discord サーバーにご参加ください。（招待リンクは別途\n",
            "添付）\n",
            "- 第 3 回  2/16  ⽇  14001530\n",
            "第 4 回  2/23  ⽇  14001530\n",
            "参加⽅法： Zoom リンク（後⽇共有） ※ 講義は全てオンラインで⾏います。\n",
            "- RA G 講 義 の テ ス ト 受 講 案 内\n",
            "1\n",
            "R A G 講義のテスト受講案内\n",
            "- もしご質問等ございましたら、  lecture@labdemy.com 宛にご連絡ください。\n",
            "- RA G 講 義 の テ ス ト 受 講 案 内\n",
            "3\n",
            "講義期間中のサポート体制について\n",
            "\n",
            "\n",
            "【LLMの回答】\n",
            " Assistant: 参加費は無料です。 \n",
            "\n",
            "【評価】\n",
            " cp:1.00, cr:1.00, ar:0.87, ft:1.00 \n",
            "\n",
            "====================\n",
            "\n",
            "【元々の質問】\n",
            " 何か事前準備は必要ですか？ \n",
            "\n",
            "【理想的な回答】\n",
            " 事前準備はPython環境の準備、基礎的なプログラミング知識が必要です。 \n",
            "\n",
            "【context情報】\n",
            "- 必要な準備： Python 環境の準備、基礎的なプログラミング知識\n",
            "参加費⽤：無料\n",
            "参加⽅法\n",
            "RAG 講義のテスト受講⽤ discord サーバーにご参加ください。（招待リンクは別途\n",
            "添付）\n",
            "- RA G 講 義 の テ ス ト 受 講 案 内\n",
            "2\n",
            "第 1 回  R A G の基本\n",
            "RAG の基本概念と理論を学び、基礎的な RAG システムを構築できるようになります。\n",
            "- RA G 講 義 の テ ス ト 受 講 案 内\n",
            "1\n",
            "R A G 講義のテスト受講案内\n",
            "- 第 3 回  2/16  ⽇  14001530\n",
            "第 4 回  2/23  ⽇  14001530\n",
            "参加⽅法： Zoom リンク（後⽇共有） ※ 講義は全てオンラインで⾏います。\n",
            "- メンションを付けて質問をしてください。可能な限り迅速に回答いたしますが、質問内\n",
            "容に応じて返信に時間がかかる場合がございます。\n",
            "お問い合わせ先\n",
            "\n",
            "\n",
            "【LLMの回答】\n",
            " Assistant: \n",
            "はい、事前準備としてPython環境の準備と基礎的なプログラミング知識が必要です。 \n",
            "\n",
            "【評価】\n",
            " cp:1.00, cr:1.00, ar:0.81, ft:1.00 \n",
            "\n"
          ]
        }
      ]
    },
    {
      "cell_type": "markdown",
      "source": [
        "## chunk sizeの最適化"
      ],
      "metadata": {
        "id": "OHXm7gjSUc0p"
      }
    },
    {
      "cell_type": "code",
      "source": [
        "from datasets import Dataset\n",
        "\n",
        "# 質問集\n",
        "questions = [\"この講義はどういうものですか？\",\n",
        "             \"主催者はどういう団体ですか？\",\n",
        "             \"合計何回の講義がありますか？\",\n",
        "             \"講義日程はどうなってますか？\",\n",
        "             \"参加したい場合はどうすれば良いですか？\",\n",
        "             \"担当者の連絡先を教えてください\",\n",
        "             \"参加費はいくらですか？\",\n",
        "             \"何か事前準備は必要ですか？\"]\n",
        "\n",
        "# 理想的な回答\n",
        "ideal_answers = [\"この講義はRAGについて学ぶ講義です。\",\n",
        "                 \"主催者はAI人材の育成に取り組んでいるLabdemyという団体です。\",\n",
        "                 \"講義は合計4回です。\",\n",
        "                 \"講義日程は：\\n 第1回 2/2 (日) 14:00~15:30 \\n 第2回 2/9 (日) 14:00~15:30 \\n 第3回 2/16 (日) 14:00~15:30 \\n 第4回 2/23 (日) 14:00~15:30 \\nです。\",\n",
        "                 \"参加したい場合はこちらの[リンク](https://discord.gg/JaQPZ5Gx?event=1323252933327847464)からdiscordサーバーに参加してください。\",\n",
        "                 \"担当者の連絡先はlecture@labdemy.comです。\",\n",
        "                 \"参加費は無料です。\",\n",
        "                 \"事前準備はPython環境の準備、基礎的なプログラミング知識が必要です。\"]"
      ],
      "metadata": {
        "id": "ZF0u_iKM6WEq"
      },
      "execution_count": 10,
      "outputs": []
    },
    {
      "cell_type": "code",
      "source": [
        "chunk_sizes = [50, 100, 200, 300, 400, 500]\n",
        "chunk_scores = []\n",
        "eval_dataset_dicts = []\n",
        "\n",
        "for chunk_size in tqdm(chunk_sizes):\n",
        "\n",
        "  # chunk分けとベクトルDBへの保存\n",
        "  documents = load_PDF(\"/content/RAG-lecture-lesson1/sample_files\")\n",
        "  chunks = create_chunks(documents=documents, chunk_size=chunk_size, chunk_overlap=0)\n",
        "  embedding_model= OpenAIEmbeddings(model='text-embedding-3-small')\n",
        "  vector_db = init_vector_db(embedding_model=embedding_model,db_path=\"database\")\n",
        "  vector_db.add_documents(documents=chunks)\n",
        "\n",
        "  # 回答の生成\n",
        "  chat_model = ChatOpenAI(model_name=\"gpt-4\", temperature=0, openai_api_key=os.environ[\"OPENAI_API_KEY\"])\n",
        "  chat_history,contexts, model_answers = [], [], []\n",
        "  for question in questions:\n",
        "    context = get_context_from_db(vector_db,question)\n",
        "    context_text = [item[0].page_content for item in context]\n",
        "    contexts.append(context_text)\n",
        "    final_prompt,_ = format_prompt(context, question,chat_history)\n",
        "    response = chat_model.invoke(final_prompt)\n",
        "    model_answers.append(response.content)\n",
        "\n",
        "  # 評価用データセットの作成\n",
        "  eval_dataset_dict = {\n",
        "    \"user_input\": questions, #質問集\n",
        "    \"response\": model_answers, #LLMの回答\n",
        "    \"retrieved_contexts\": contexts, #コンテキスト情報\n",
        "    \"reference\": ideal_answers #理想的な回答\n",
        "  }\n",
        "  eval_dataset_dicts.append(eval_dataset_dict)\n",
        "\n",
        "  eval_dataset = Dataset.from_dict(eval_dataset_dict)\n",
        "\n",
        "  # 評価\n",
        "  scores = evaluate(\n",
        "    dataset=eval_dataset,\n",
        "    metrics=[context_precision,context_recall,answer_relevancy,faithfulness]\n",
        "  )\n",
        "\n",
        "  chunk_scores.append(scores)\n"
      ],
      "metadata": {
        "colab": {
          "base_uri": "https://localhost:8080/"
        },
        "id": "x28ZEEXVUeGG",
        "outputId": "52073c05-5d4c-4c0d-f2f8-17d94840fef8"
      },
      "execution_count": null,
      "outputs": [
        {
          "output_type": "stream",
          "name": "stderr",
          "text": [
            "\r  0%|          | 0/6 [00:00<?, ?it/s]"
          ]
        }
      ]
    },
    {
      "cell_type": "code",
      "source": [
        "# 可視化\n",
        "import matplotlib.pyplot as plt\n",
        "import japanize_matplotlib\n",
        "\n",
        "metrics = ['context_precision','context_recall','answer_relevancy','faithfulness']\n",
        "\n",
        "# x軸の定義\n",
        "x_values = chunk_sizes\n",
        "\n",
        "# 描写の準備\n",
        "plt.figure(figsize=(8, 5))\n",
        "\n",
        "# 各評価指標を別々の線として描写\n",
        "for metric in metrics:\n",
        "    y_values = [sum(item[metric])/len(item[metric]) for item in chunk_scores]  # 各評価指標の値を取得\n",
        "    plt.plot(x_values, y_values, marker='o', label=metric)  # 線を描写\n",
        "\n",
        "# ラベル等の設定\n",
        "plt.xlabel(\"chunk size\")\n",
        "plt.ylabel(\"score\")\n",
        "plt.title(\"chunk size ごとの評価スコアの推移\")\n",
        "plt.legend()\n",
        "plt.grid(True)\n",
        "\n",
        "plt.show()"
      ],
      "metadata": {
        "colab": {
          "base_uri": "https://localhost:8080/",
          "height": 484
        },
        "id": "kS9V49et6xgJ",
        "outputId": "67e03320-d60d-47a3-ee20-d78b16fcb8e4"
      },
      "execution_count": 37,
      "outputs": [
        {
          "output_type": "display_data",
          "data": {
            "text/plain": [
              "<Figure size 800x500 with 1 Axes>"
            ],
            "image/png": "[encoded data removed]"
          },
          "metadata": {}
        }
      ]
    },
    {
      "cell_type": "code",
      "source": [
        "chunk_scores[3]['context_precision'][3]"
      ],
      "metadata": {
        "colab": {
          "base_uri": "https://localhost:8080/"
        },
        "id": "3Ml9bbVmKUpx",
        "outputId": "b77c6d7d-4aa8-40d8-9826-f785a43d2f2b"
      },
      "execution_count": 77,
      "outputs": [
        {
          "output_type": "execute_result",
          "data": {
            "text/plain": [
              "0.499999999975"
            ]
          },
          "metadata": {},
          "execution_count": 77
        }
      ]
    },
    {
      "cell_type": "code",
      "source": [
        "# chunk size 300 の時の 4番目の質問について見てみる\n",
        "print(\"=\"*20)\n",
        "print(\"\\n【元々の質問】\\n\",eval_dataset_dicts[3]['user_input'][3],\"\\n\")\n",
        "print(\"【理想的な回答】\\n\",eval_dataset_dicts[3]['reference'][3],\"\\n\")\n",
        "print(\"【context情報】\")\n",
        "for c in eval_dataset_dicts[3]['retrieved_contexts'][3]:\n",
        "  print('-',c)\n",
        "print(\"\\n\")\n",
        "print(\"【LLMの回答】\\n\",eval_dataset_dicts[3]['response'][3],\"\\n\")\n",
        "\n",
        "print(f\"【評価】\\n cp:{chunk_scores[3]['context_precision'][3]:.2f}, cr:{chunk_scores[3]['context_recall'][3]:.2f}, ar:{chunk_scores[3]['answer_relevancy'][3]:.2f}, ft:{chunk_scores[3]['faithfulness'][3]:.2f} \\n\")"
      ],
      "metadata": {
        "colab": {
          "base_uri": "https://localhost:8080/"
        },
        "id": "XZn7SJo0J2nM",
        "outputId": "034e7c04-245a-424b-e5e9-7c6e011674c8"
      },
      "execution_count": 78,
      "outputs": [
        {
          "output_type": "stream",
          "name": "stdout",
          "text": [
            "====================\n",
            "\n",
            "【元々の質問】\n",
            " 講義日程はどうなってますか？ \n",
            "\n",
            "【理想的な回答】\n",
            " 講義日程は：\n",
            " 第1回 2/2 (日) 14:00~15:30 \n",
            " 第2回 2/9 (日) 14:00~15:30 \n",
            " 第3回 2/16 (日) 14:00~15:30 \n",
            " 第4回 2/23 (日) 14:00~15:30 \n",
            "です。 \n",
            "\n",
            "【context情報】\n",
            "- RA G 講 義 の テ ス ト 受 講 案 内\n",
            "1\n",
            "R A G 講義のテスト受講案内\n",
            "この度は、 Labdemy の RAG （ Retrieval-Augmented Generation ）講義のテスト受講に\n",
            "ご興味を⽰していただき、誠にありがとうございます！\n",
            "L a b d e m y について\n",
            "Labdemy では、最先端の AI を研究レベルでマスターすることを⽬的に、深い学びと実\n",
            "務課題の経験を通して真に AI を活⽤できる⼈材の育成に取り組んでいます。\n",
            "講義概要\n",
            "合計 4 回の講義に渡って RAG について網羅的に勉強していただきます。最終的には添付\n",
            "- 第 1 回  2/2  ⽇  14001530\n",
            "第 2 回  2/9  ⽇  14001530\n",
            "第 3 回  2/16  ⽇  14001530\n",
            "第 4 回  2/23  ⽇  14001530\n",
            "参加⽅法： Zoom リンク（後⽇共有） ※ 講義は全てオンラインで⾏います。\n",
            "必要な準備： Python 環境の準備、基礎的なプログラミング知識\n",
            "参加費⽤：無料\n",
            "参加⽅法\n",
            "RAG 講義のテスト受講⽤ discord サーバーにご参加ください。（招待リンクは別途\n",
            "添付）\n",
            "Join the Labdemy School Beta Discord Server!\n",
            "- RA G 講 義 の テ ス ト 受 講 案 内\n",
            "3\n",
            "講義期間中のサポート体制について\n",
            "講義期間中は、 #lecture-test-rag-qa チャンネルにて質問を承ります！  @lectur ers  に\n",
            "メンションを付けて質問をしてください。可能な限り迅速に回答いたしますが、質問内\n",
            "容に応じて返信に時間がかかる場合がございます。\n",
            "お問い合わせ先\n",
            "もしご質問等ございましたら、  lecture@labdemy.com 宛にご連絡ください。\n",
            "- RA G 講 義 の テ ス ト 受 講 案 内\n",
            "2\n",
            "第 1 回  R A G の基本\n",
            "RAG の基本概念と理論を学び、基礎的な RAG システムを構築できるようになります。\n",
            "第 2 回  S t r e a m l i t の導⼊\n",
            "作成した基礎的な RAG を、Streamlitを⽤いて実際にアプリ化していきます。\n",
            "第 3 回  R A G A s による R A G の評価検証\n",
            "作成した RAG システムをRAGAsを⽤いて定量的に評価する⽅法について学びます。\n",
            "第 4 回  R A G の改善\n",
            "RAG システムの性能を改善する⽅法について学びます。\n",
            "テスト受講概要\n",
            "⽇程：\n",
            "- Check out the Labdemy School Beta community on Discord - hang out with 5 other members and enjoy \n",
            "free voice and text chat.\n",
            "https://discord.gg/JaQPZ5Gx?event=1323252933327847464\n",
            "\n",
            "\n",
            "【LLMの回答】\n",
            " Assistant: \n",
            "講義は以下の日程で行われます：\n",
            "第 1 回  2/2  ⽇  14001530\n",
            "第 2 回  2/9  ⽇  14001530\n",
            "第 3 回  2/16  ⽇  14001530\n",
            "第 4 回  2/23  ⽇  14001530\n",
            "講義は全てオンラインで行われます。 \n",
            "\n",
            "【評価】\n",
            " cp:0.50, cr:1.00, ar:0.86, ft:1.00 \n",
            "\n"
          ]
        }
      ]
    },
    {
      "cell_type": "markdown",
      "source": [
        "## 理想的な回答の自動生成"
      ],
      "metadata": {
        "id": "aaqcRvw1UlV7"
      }
    },
    {
      "cell_type": "code",
      "source": [],
      "metadata": {
        "id": "kpnlWbYDUntD"
      },
      "execution_count": null,
      "outputs": []
    }
  ],
  "metadata": {
    "colab": {
      "provenance": []
    },
    "kernelspec": {
      "display_name": "Python 3",
      "name": "python3"
    },
    "language_info": {
      "name": "python"
    },
    "widgets": {
      "application/vnd.jupyter.widget-state+json": {
        "f16c2b6d2e5a43a1bd337472b68e7d28": {
          "model_module": "@jupyter-widgets/controls",
          "model_name": "HBoxModel",
          "model_module_version": "1.5.0",
          "state": {
            "_dom_classes": [],
            "_model_module": "@jupyter-widgets/controls",
            "_model_module_version": "1.5.0",
            "_model_name": "HBoxModel",
            "_view_count": null,
            "_view_module": "@jupyter-widgets/controls",
            "_view_module_version": "1.5.0",
            "_view_name": "HBoxView",
            "box_style": "",
            "children": [
              "IPY_MODEL_963433e4bb7e454588b5eb92881b4239",
              "IPY_MODEL_cae5a2ffe3044da7870eab77f3e80c4a",
              "IPY_MODEL_9d1bffd59a954c05b372fab1657ce92d"
            ],
            "layout": "IPY_MODEL_ea62dffb26cc4fa6bc9c691446d4dfdc"
          }
        },
        "963433e4bb7e454588b5eb92881b4239": {
          "model_module": "@jupyter-widgets/controls",
          "model_name": "HTMLModel",
          "model_module_version": "1.5.0",
          "state": {
            "_dom_classes": [],
            "_model_module": "@jupyter-widgets/controls",
            "_model_module_version": "1.5.0",
            "_model_name": "HTMLModel",
            "_view_count": null,
            "_view_module": "@jupyter-widgets/controls",
            "_view_module_version": "1.5.0",
            "_view_name": "HTMLView",
            "description": "",
            "description_tooltip": null,
            "layout": "IPY_MODEL_67ae4ed12e834382ab0b78794d27e9ab",
            "placeholder": "​",
            "style": "IPY_MODEL_2b3d33c941814bdeb7beb9465f62948a",
            "value": "Evaluating: 100%"
          }
        },
        "cae5a2ffe3044da7870eab77f3e80c4a": {
          "model_module": "@jupyter-widgets/controls",
          "model_name": "FloatProgressModel",
          "model_module_version": "1.5.0",
          "state": {
            "_dom_classes": [],
            "_model_module": "@jupyter-widgets/controls",
            "_model_module_version": "1.5.0",
            "_model_name": "FloatProgressModel",
            "_view_count": null,
            "_view_module": "@jupyter-widgets/controls",
            "_view_module_version": "1.5.0",
            "_view_name": "ProgressView",
            "bar_style": "success",
            "description": "",
            "description_tooltip": null,
            "layout": "IPY_MODEL_ebf47314fe7143dc89b61d9143a75e4f",
            "max": 32,
            "min": 0,
            "orientation": "horizontal",
            "style": "IPY_MODEL_4dc0d6770f5042b3b975483b0f8ccef3",
            "value": 32
          }
        },
        "9d1bffd59a954c05b372fab1657ce92d": {
          "model_module": "@jupyter-widgets/controls",
          "model_name": "HTMLModel",
          "model_module_version": "1.5.0",
          "state": {
            "_dom_classes": [],
            "_model_module": "@jupyter-widgets/controls",
            "_model_module_version": "1.5.0",
            "_model_name": "HTMLModel",
            "_view_count": null,
            "_view_module": "@jupyter-widgets/controls",
            "_view_module_version": "1.5.0",
            "_view_name": "HTMLView",
            "description": "",
            "description_tooltip": null,
            "layout": "IPY_MODEL_6822cef1804e45969af3ccd2b84b64d2",
            "placeholder": "​",
            "style": "IPY_MODEL_257d7252751d4c2a9f2410f2ccf4366e",
            "value": " 32/32 [00:14&lt;00:00,  1.50it/s]"
          }
        },
        "ea62dffb26cc4fa6bc9c691446d4dfdc": {
          "model_module": "@jupyter-widgets/base",
          "model_name": "LayoutModel",
          "model_module_version": "1.2.0",
          "state": {
            "_model_module": "@jupyter-widgets/base",
            "_model_module_version": "1.2.0",
            "_model_name": "LayoutModel",
            "_view_count": null,
            "_view_module": "@jupyter-widgets/base",
            "_view_module_version": "1.2.0",
            "_view_name": "LayoutView",
            "align_content": null,
            "align_items": null,
            "align_self": null,
            "border": null,
            "bottom": null,
            "display": null,
            "flex": null,
            "flex_flow": null,
            "grid_area": null,
            "grid_auto_columns": null,
            "grid_auto_flow": null,
            "grid_auto_rows": null,
            "grid_column": null,
            "grid_gap": null,
            "grid_row": null,
            "grid_template_areas": null,
            "grid_template_columns": null,
            "grid_template_rows": null,
            "height": null,
            "justify_content": null,
            "justify_items": null,
            "left": null,
            "margin": null,
            "max_height": null,
            "max_width": null,
            "min_height": null,
            "min_width": null,
            "object_fit": null,
            "object_position": null,
            "order": null,
            "overflow": null,
            "overflow_x": null,
            "overflow_y": null,
            "padding": null,
            "right": null,
            "top": null,
            "visibility": null,
            "width": null
          }
        },
        "67ae4ed12e834382ab0b78794d27e9ab": {
          "model_module": "@jupyter-widgets/base",
          "model_name": "LayoutModel",
          "model_module_version": "1.2.0",
          "state": {
            "_model_module": "@jupyter-widgets/base",
            "_model_module_version": "1.2.0",
            "_model_name": "LayoutModel",
            "_view_count": null,
            "_view_module": "@jupyter-widgets/base",
            "_view_module_version": "1.2.0",
            "_view_name": "LayoutView",
            "align_content": null,
            "align_items": null,
            "align_self": null,
            "border": null,
            "bottom": null,
            "display": null,
            "flex": null,
            "flex_flow": null,
            "grid_area": null,
            "grid_auto_columns": null,
            "grid_auto_flow": null,
            "grid_auto_rows": null,
            "grid_column": null,
            "grid_gap": null,
            "grid_row": null,
            "grid_template_areas": null,
            "grid_template_columns": null,
            "grid_template_rows": null,
            "height": null,
            "justify_content": null,
            "justify_items": null,
            "left": null,
            "margin": null,
            "max_height": null,
            "max_width": null,
            "min_height": null,
            "min_width": null,
            "object_fit": null,
            "object_position": null,
            "order": null,
            "overflow": null,
            "overflow_x": null,
            "overflow_y": null,
            "padding": null,
            "right": null,
            "top": null,
            "visibility": null,
            "width": null
          }
        },
        "2b3d33c941814bdeb7beb9465f62948a": {
          "model_module": "@jupyter-widgets/controls",
          "model_name": "DescriptionStyleModel",
          "model_module_version": "1.5.0",
          "state": {
            "_model_module": "@jupyter-widgets/controls",
            "_model_module_version": "1.5.0",
            "_model_name": "DescriptionStyleModel",
            "_view_count": null,
            "_view_module": "@jupyter-widgets/base",
            "_view_module_version": "1.2.0",
            "_view_name": "StyleView",
            "description_width": ""
          }
        },
        "ebf47314fe7143dc89b61d9143a75e4f": {
          "model_module": "@jupyter-widgets/base",
          "model_name": "LayoutModel",
          "model_module_version": "1.2.0",
          "state": {
            "_model_module": "@jupyter-widgets/base",
            "_model_module_version": "1.2.0",
            "_model_name": "LayoutModel",
            "_view_count": null,
            "_view_module": "@jupyter-widgets/base",
            "_view_module_version": "1.2.0",
            "_view_name": "LayoutView",
            "align_content": null,
            "align_items": null,
            "align_self": null,
            "border": null,
            "bottom": null,
            "display": null,
            "flex": null,
            "flex_flow": null,
            "grid_area": null,
            "grid_auto_columns": null,
            "grid_auto_flow": null,
            "grid_auto_rows": null,
            "grid_column": null,
            "grid_gap": null,
            "grid_row": null,
            "grid_template_areas": null,
            "grid_template_columns": null,
            "grid_template_rows": null,
            "height": null,
            "justify_content": null,
            "justify_items": null,
            "left": null,
            "margin": null,
            "max_height": null,
            "max_width": null,
            "min_height": null,
            "min_width": null,
            "object_fit": null,
            "object_position": null,
            "order": null,
            "overflow": null,
            "overflow_x": null,
            "overflow_y": null,
            "padding": null,
            "right": null,
            "top": null,
            "visibility": null,
            "width": null
          }
        },
        "4dc0d6770f5042b3b975483b0f8ccef3": {
          "model_module": "@jupyter-widgets/controls",
          "model_name": "ProgressStyleModel",
          "model_module_version": "1.5.0",
          "state": {
            "_model_module": "@jupyter-widgets/controls",
            "_model_module_version": "1.5.0",
            "_model_name": "ProgressStyleModel",
            "_view_count": null,
            "_view_module": "@jupyter-widgets/base",
            "_view_module_version": "1.2.0",
            "_view_name": "StyleView",
            "bar_color": null,
            "description_width": ""
          }
        },
        "6822cef1804e45969af3ccd2b84b64d2": {
          "model_module": "@jupyter-widgets/base",
          "model_name": "LayoutModel",
          "model_module_version": "1.2.0",
          "state": {
            "_model_module": "@jupyter-widgets/base",
            "_model_module_version": "1.2.0",
            "_model_name": "LayoutModel",
            "_view_count": null,
            "_view_module": "@jupyter-widgets/base",
            "_view_module_version": "1.2.0",
            "_view_name": "LayoutView",
            "align_content": null,
            "align_items": null,
            "align_self": null,
            "border": null,
            "bottom": null,
            "display": null,
            "flex": null,
            "flex_flow": null,
            "grid_area": null,
            "grid_auto_columns": null,
            "grid_auto_flow": null,
            "grid_auto_rows": null,
            "grid_column": null,
            "grid_gap": null,
            "grid_row": null,
            "grid_template_areas": null,
            "grid_template_columns": null,
            "grid_template_rows": null,
            "height": null,
            "justify_content": null,
            "justify_items": null,
            "left": null,
            "margin": null,
            "max_height": null,
            "max_width": null,
            "min_height": null,
            "min_width": null,
            "object_fit": null,
            "object_position": null,
            "order": null,
            "overflow": null,
            "overflow_x": null,
            "overflow_y": null,
            "padding": null,
            "right": null,
            "top": null,
            "visibility": null,
            "width": null
          }
        },
        "257d7252751d4c2a9f2410f2ccf4366e": {
          "model_module": "@jupyter-widgets/controls",
          "model_name": "DescriptionStyleModel",
          "model_module_version": "1.5.0",
          "state": {
            "_model_module": "@jupyter-widgets/controls",
            "_model_module_version": "1.5.0",
            "_model_name": "DescriptionStyleModel",
            "_view_count": null,
            "_view_module": "@jupyter-widgets/base",
            "_view_module_version": "1.2.0",
            "_view_name": "StyleView",
            "description_width": ""
          }
        }
      }
    }
  },
  "nbformat": 4,
  "nbformat_minor": 0
}